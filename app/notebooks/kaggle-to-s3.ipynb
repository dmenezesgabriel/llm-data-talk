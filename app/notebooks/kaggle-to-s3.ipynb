{
 "cells": [
  {
   "cell_type": "code",
   "execution_count": null,
   "metadata": {},
   "outputs": [],
   "source": [
    "import os\n",
    "import shutil\n",
    "import tempfile\n",
    "from time import time\n",
    "import boto3\n",
    "import kaggle\n",
    "import pandas as pd"
   ]
  },
  {
   "cell_type": "code",
   "execution_count": null,
   "metadata": {},
   "outputs": [],
   "source": [
    "kaggle.api.authenticate()\n",
    "s3_client = boto3.client(\"s3\")\n",
    "sts_client = boto3.client(\"sts\")"
   ]
  },
  {
   "cell_type": "code",
   "execution_count": null,
   "metadata": {},
   "outputs": [],
   "source": [
    "ACCOUNT_ID = sts_client.get_caller_identity()[\"Account\"]"
   ]
  },
  {
   "cell_type": "code",
   "execution_count": null,
   "metadata": {},
   "outputs": [],
   "source": [
    "def kaggle_to_s3(dataset, path, bucket_name):\n",
    "    with tempfile.TemporaryDirectory() as temp_dir:\n",
    "        print(temp_dir)\n",
    "        kaggle.api.dataset_download_files(dataset, path=temp_dir, unzip=True)\n",
    "        for root, dirs, files in os.walk(temp_dir):\n",
    "            files_number = len(files)\n",
    "            for index, file in enumerate(files):\n",
    "                start_time = time()\n",
    "                print(f\"Uploading {file} ({index+1}/{files_number})\")\n",
    "                object_key = os.path.join(path, file)\n",
    "                s3_client.upload_file(\n",
    "                    os.path.join(root, file), bucket_name, object_key\n",
    "                )\n",
    "                end_time = time()\n",
    "                print(\n",
    "                    f\"Uploaded {file} ({index+1}/{files_number}) in \"\n",
    "                    \"{end_time - start_time} seconds\"\n",
    "                )\n",
    "        shutil.rmtree(temp_dir)\n",
    "\n",
    "\n",
    "dataset = \"olistbr/brazilian-ecommerce\"\n",
    "path = \"/olistbr-kaggle\"\n",
    "bucket_name = f\"sor-{ACCOUNT_ID}\"\n",
    "\n",
    "kaggle_to_s3(dataset, path, bucket_name)"
   ]
  },
  {
   "cell_type": "code",
   "execution_count": null,
   "metadata": {},
   "outputs": [],
   "source": [
    "# list files in bucket\n",
    "uploaded_files = s3_client.list_objects_v2(Bucket=bucket_name)\n",
    "uploaded_files[\"Contents\"][:1]"
   ]
  },
  {
   "cell_type": "code",
   "execution_count": null,
   "metadata": {},
   "outputs": [],
   "source": [
    "def sor_csv_to_sot_parquet(key):\n",
    "    sor_bucket_name = f\"sor-{ACCOUNT_ID}\"\n",
    "    sot_bucket_name = f\"sot-{ACCOUNT_ID}\"\n",
    "    with tempfile.TemporaryFile() as temp_file:\n",
    "        start_time = time()\n",
    "        s3_client.download_fileobj(sor_bucket_name, key, temp_file)\n",
    "        temp_file.seek(0)\n",
    "        df = pd.read_csv(temp_file, encoding=\"utf-8\", sep=\",\")\n",
    "        df.to_parquet(f\"/tmp/{key}.parquet\")\n",
    "        s3_client.upload_file(\n",
    "            f\"/tmp/{key}.parquet\",\n",
    "            sot_bucket_name,\n",
    "            key.replace(\".csv\", \".parquet\"),\n",
    "        )\n",
    "        os.remove(f\"/tmp/{key}.parquet\")\n",
    "        end_time = time()\n",
    "        print(f\"Uploaded {key} in {end_time - start_time} seconds\")\n",
    "\n",
    "\n",
    "uploaded_files = s3_client.list_objects_v2(Bucket=bucket_name)\n",
    "for index, obj in enumerate(uploaded_files[\"Contents\"]):\n",
    "    files_number = len(uploaded_files[\"Contents\"])\n",
    "    if obj[\"Key\"].endswith(\".csv\"):\n",
    "        print(f\"Uploading {obj['Key']} ({index+1}/{files_number})\")\n",
    "        sor_csv_to_sot_parquet(obj[\"Key\"])"
   ]
  }
 ],
 "metadata": {
  "kernelspec": {
   "display_name": "venv",
   "language": "python",
   "name": "python3"
  },
  "language_info": {
   "codemirror_mode": {
    "name": "ipython",
    "version": 3
   },
   "file_extension": ".py",
   "mimetype": "text/x-python",
   "name": "python",
   "nbconvert_exporter": "python",
   "pygments_lexer": "ipython3",
   "version": "3.9.6"
  }
 },
 "nbformat": 4,
 "nbformat_minor": 2
}
