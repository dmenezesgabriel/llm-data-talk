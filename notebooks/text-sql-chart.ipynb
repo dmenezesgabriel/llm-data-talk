{
 "cells": [
  {
   "cell_type": "code",
   "execution_count": 1,
   "metadata": {},
   "outputs": [],
   "source": [
    "import duckdb\n",
    "from dotenv import load_dotenv\n",
    "import pandas as pd\n",
    "from langchain_community.utilities import SQLDatabase\n",
    "from langchain_core.runnables import RunnablePassthrough, RunnableSequence\n",
    "from langchain_core.output_parsers import StrOutputParser\n",
    "from langchain_openai import ChatOpenAI\n",
    "from langchain_core.prompts import ChatPromptTemplate\n",
    "from langchain.text_splitter import CharacterTextSplitter\n",
    "from langchain.embeddings import OpenAIEmbeddings\n",
    "from langchain.vectorstores import FAISS\n",
    "from langchain.memory import ConversationBufferMemory\n",
    "from langchain.chains import ConversationalRetrievalChain\n",
    "import sqlite3"
   ]
  },
  {
   "cell_type": "code",
   "execution_count": 2,
   "metadata": {},
   "outputs": [
    {
     "data": {
      "text/plain": [
       "True"
      ]
     },
     "execution_count": 2,
     "metadata": {},
     "output_type": "execute_result"
    }
   ],
   "source": [
    "load_dotenv(dotenv_path=\"../.env\")"
   ]
  },
  {
   "cell_type": "code",
   "execution_count": 3,
   "metadata": {},
   "outputs": [],
   "source": [
    "llm = ChatOpenAI()"
   ]
  },
  {
   "cell_type": "code",
   "execution_count": 4,
   "metadata": {},
   "outputs": [],
   "source": [
    "sqlite_alchemy_uri = \"sqlite:///../data/Chinook.db\"\n",
    "sqlite_uri = \"../data/Chinook.db\"\n",
    "\n",
    "db = SQLDatabase.from_uri(sqlite_alchemy_uri)\n",
    "sqlite_con = sqlite3.connect(sqlite_uri)"
   ]
  },
  {
   "cell_type": "code",
   "execution_count": 5,
   "metadata": {},
   "outputs": [],
   "source": [
    "duckdb_con = duckdb.connect(\":memory:\")"
   ]
  },
  {
   "cell_type": "code",
   "execution_count": 6,
   "metadata": {},
   "outputs": [],
   "source": [
    "def get_schema(_):\n",
    "    return db.get_table_info()"
   ]
  },
  {
   "cell_type": "code",
   "execution_count": 7,
   "metadata": {},
   "outputs": [],
   "source": [
    "def run_query(query):\n",
    "    return db.run(query)"
   ]
  },
  {
   "cell_type": "code",
   "execution_count": 8,
   "metadata": {},
   "outputs": [],
   "source": [
    "def get_text_chunks(raw_text):\n",
    "    text_splitter = CharacterTextSplitter(\n",
    "        separator=\"\\n\",\n",
    "        chunk_size=1000,\n",
    "        chunk_overlap=100,\n",
    "        length_function=len,\n",
    "    )\n",
    "    return text_splitter.split_text(raw_text)"
   ]
  },
  {
   "cell_type": "code",
   "execution_count": 9,
   "metadata": {},
   "outputs": [],
   "source": [
    "def get_vectorstore(text_chunks):\n",
    "    embeddings = OpenAIEmbeddings()\n",
    "    return FAISS.from_texts(texts=text_chunks, embedding=embeddings)"
   ]
  },
  {
   "cell_type": "code",
   "execution_count": 10,
   "metadata": {},
   "outputs": [],
   "source": [
    "def get_conversation_chain(vectorstore):\n",
    "    memory = ConversationBufferMemory(\n",
    "        memory_key=\"chat_history\", return_messages=True\n",
    "    )\n",
    "    return ConversationalRetrievalChain.from_llm(\n",
    "        llm=llm, retriever=vectorstore.as_retriever(), memory=memory\n",
    "    )"
   ]
  },
  {
   "cell_type": "code",
   "execution_count": 11,
   "metadata": {},
   "outputs": [],
   "source": [
    "def handle_user_question(user_question, conversation):\n",
    "    return conversation({\"question\": user_question})"
   ]
  },
  {
   "cell_type": "markdown",
   "metadata": {},
   "source": [
    "## Attach a sqlite database into duckdb\n"
   ]
  },
  {
   "cell_type": "code",
   "execution_count": 12,
   "metadata": {},
   "outputs": [
    {
     "data": {
      "text/plain": [
       "<duckdb.duckdb.DuckDBPyConnection at 0x7c721d87a270>"
      ]
     },
     "execution_count": 12,
     "metadata": {},
     "output_type": "execute_result"
    }
   ],
   "source": [
    "duckdb_con.execute(f\"ATTACH '{sqlite_uri}' AS test (TYPE sqlite)\")"
   ]
  },
  {
   "cell_type": "code",
   "execution_count": 13,
   "metadata": {},
   "outputs": [
    {
     "data": {
      "text/plain": [
       "┌───────────────┐\n",
       "│     name      │\n",
       "│    varchar    │\n",
       "├───────────────┤\n",
       "│ Album         │\n",
       "│ Artist        │\n",
       "│ Customer      │\n",
       "│ Employee      │\n",
       "│ Genre         │\n",
       "│ Invoice       │\n",
       "│ InvoiceLine   │\n",
       "│ MediaType     │\n",
       "│ Playlist      │\n",
       "│ PlaylistTrack │\n",
       "│ Track         │\n",
       "├───────────────┤\n",
       "│    11 rows    │\n",
       "└───────────────┘"
      ]
     },
     "execution_count": 13,
     "metadata": {},
     "output_type": "execute_result"
    }
   ],
   "source": [
    "duckdb_con.query(\"USE test; SHOW TABLES;\")"
   ]
  },
  {
   "cell_type": "markdown",
   "metadata": {},
   "source": [
    "## Ask for a query based on user question\n"
   ]
  },
  {
   "cell_type": "code",
   "execution_count": 14,
   "metadata": {},
   "outputs": [],
   "source": [
    "schema_sql_template = \"\"\"Based on the table schema below, write a SQL query that would answer the user's question:\n",
    "{schema}\n",
    "\n",
    "Question: {question}\n",
    "SQL Query:\"\"\"\n",
    "\n",
    "schema_sql_prompt = ChatPromptTemplate.from_template(schema_sql_template)"
   ]
  },
  {
   "cell_type": "code",
   "execution_count": 15,
   "metadata": {},
   "outputs": [],
   "source": [
    "schema_sql_chain = (\n",
    "    RunnablePassthrough.assign(schema=get_schema)\n",
    "    | schema_sql_prompt\n",
    "    | llm.bind(stop=[\"\\nSQLResult:\"])\n",
    "    | StrOutputParser()\n",
    ")"
   ]
  },
  {
   "cell_type": "code",
   "execution_count": 16,
   "metadata": {},
   "outputs": [
    {
     "data": {
      "text/plain": [
       "'SELECT ar.Name AS Artist, SUM(il.UnitPrice) AS TotalSales\\nFROM Artist ar\\nJOIN Album al ON ar.ArtistId = al.ArtistId\\nJOIN Track t ON al.AlbumId = t.AlbumId\\nJOIN InvoiceLine il ON t.TrackId = il.TrackId\\nGROUP BY ar.ArtistId\\nORDER BY TotalSales DESC\\nLIMIT 5;'"
      ]
     },
     "execution_count": 16,
     "metadata": {},
     "output_type": "execute_result"
    }
   ],
   "source": [
    "schema_sql_user_question = \"what are the top 5 artists by sales?\"\n",
    "schema_sql_chain_result = schema_sql_chain.invoke(\n",
    "    {\"question\": schema_sql_user_question}\n",
    ")\n",
    "schema_sql_chain_result"
   ]
  },
  {
   "cell_type": "code",
   "execution_count": 17,
   "metadata": {},
   "outputs": [
    {
     "data": {
      "text/html": [
       "<div>\n",
       "<style scoped>\n",
       "    .dataframe tbody tr th:only-of-type {\n",
       "        vertical-align: middle;\n",
       "    }\n",
       "\n",
       "    .dataframe tbody tr th {\n",
       "        vertical-align: top;\n",
       "    }\n",
       "\n",
       "    .dataframe thead th {\n",
       "        text-align: right;\n",
       "    }\n",
       "</style>\n",
       "<table border=\"1\" class=\"dataframe\">\n",
       "  <thead>\n",
       "    <tr style=\"text-align: right;\">\n",
       "      <th></th>\n",
       "      <th>Artist</th>\n",
       "      <th>TotalSales</th>\n",
       "    </tr>\n",
       "  </thead>\n",
       "  <tbody>\n",
       "    <tr>\n",
       "      <th>0</th>\n",
       "      <td>Iron Maiden</td>\n",
       "      <td>138.60</td>\n",
       "    </tr>\n",
       "    <tr>\n",
       "      <th>1</th>\n",
       "      <td>U2</td>\n",
       "      <td>105.93</td>\n",
       "    </tr>\n",
       "    <tr>\n",
       "      <th>2</th>\n",
       "      <td>Metallica</td>\n",
       "      <td>90.09</td>\n",
       "    </tr>\n",
       "    <tr>\n",
       "      <th>3</th>\n",
       "      <td>Led Zeppelin</td>\n",
       "      <td>86.13</td>\n",
       "    </tr>\n",
       "    <tr>\n",
       "      <th>4</th>\n",
       "      <td>Lost</td>\n",
       "      <td>81.59</td>\n",
       "    </tr>\n",
       "  </tbody>\n",
       "</table>\n",
       "</div>"
      ],
      "text/plain": [
       "         Artist  TotalSales\n",
       "0   Iron Maiden      138.60\n",
       "1            U2      105.93\n",
       "2     Metallica       90.09\n",
       "3  Led Zeppelin       86.13\n",
       "4          Lost       81.59"
      ]
     },
     "execution_count": 17,
     "metadata": {},
     "output_type": "execute_result"
    }
   ],
   "source": [
    "df = pd.read_sql_query(schema_sql_chain_result, sqlite_con)\n",
    "df.head()"
   ]
  },
  {
   "cell_type": "markdown",
   "metadata": {},
   "source": [
    "## Ask for a query based on an user question using vectorstore context\n"
   ]
  },
  {
   "cell_type": "markdown",
   "metadata": {},
   "source": [
    "Reference: https://python.langchain.com/docs/expression_language/how_to/passthrough\n"
   ]
  },
  {
   "cell_type": "code",
   "execution_count": 18,
   "metadata": {},
   "outputs": [
    {
     "name": "stderr",
     "output_type": "stream",
     "text": [
      "/home/gabriel/Documents/repos/llm-data-talk/venv/lib/python3.9/site-packages/langchain_core/_api/deprecation.py:117: LangChainDeprecationWarning: The class `langchain_community.embeddings.openai.OpenAIEmbeddings` was deprecated in langchain-community 0.0.9 and will be removed in 0.2.0. An updated version of the class exists in the langchain-openai package and should be used instead. To use it run `pip install -U langchain-openai` and import as `from langchain_openai import OpenAIEmbeddings`.\n",
      "  warn_deprecated(\n"
     ]
    }
   ],
   "source": [
    "raw_text = db.get_table_info()\n",
    "text_chunks = get_text_chunks(raw_text)\n",
    "vector_store = get_vectorstore(text_chunks)\n",
    "retriever = vector_store.as_retriever()"
   ]
  },
  {
   "cell_type": "code",
   "execution_count": 19,
   "metadata": {},
   "outputs": [],
   "source": [
    "context_sql_template = \"\"\"Write a SQL query that would answer the user's question based on the context:\n",
    "{context}\n",
    "\n",
    "Question: {question}\n",
    "SQL Query:\"\"\"\n",
    "\n",
    "context_sql_prompt = ChatPromptTemplate.from_template(context_sql_template)"
   ]
  },
  {
   "cell_type": "code",
   "execution_count": 20,
   "metadata": {},
   "outputs": [],
   "source": [
    "context_sql_chain = (\n",
    "    {\"context\": retriever, \"question\": RunnablePassthrough()}\n",
    "    | context_sql_prompt\n",
    "    | llm.bind(stop=[\"\\nSQLResult:\"])\n",
    "    | StrOutputParser()\n",
    ")"
   ]
  },
  {
   "cell_type": "code",
   "execution_count": 21,
   "metadata": {},
   "outputs": [
    {
     "data": {
      "text/plain": [
       "'SELECT ar.Name AS Artist, SUM(il.UnitPrice * il.Quantity) AS TotalSales\\nFROM Artist ar\\nJOIN Album al ON ar.ArtistId = al.ArtistId\\nJOIN Track tr ON al.AlbumId = tr.AlbumId\\nJOIN InvoiceLine il ON tr.TrackId = il.TrackId\\nGROUP BY ar.Name\\nORDER BY TotalSales DESC\\nLIMIT 5;'"
      ]
     },
     "execution_count": 21,
     "metadata": {},
     "output_type": "execute_result"
    }
   ],
   "source": [
    "context_sql_user_question = \"what are the top 5 artists by sales?\"\n",
    "context_sql_chain_result = context_sql_chain.invoke(context_sql_user_question)\n",
    "context_sql_chain_result"
   ]
  },
  {
   "cell_type": "code",
   "execution_count": 35,
   "metadata": {},
   "outputs": [
    {
     "data": {
      "text/html": [
       "<div>\n",
       "<style scoped>\n",
       "    .dataframe tbody tr th:only-of-type {\n",
       "        vertical-align: middle;\n",
       "    }\n",
       "\n",
       "    .dataframe tbody tr th {\n",
       "        vertical-align: top;\n",
       "    }\n",
       "\n",
       "    .dataframe thead th {\n",
       "        text-align: right;\n",
       "    }\n",
       "</style>\n",
       "<table border=\"1\" class=\"dataframe\">\n",
       "  <thead>\n",
       "    <tr style=\"text-align: right;\">\n",
       "      <th></th>\n",
       "      <th>Artist</th>\n",
       "      <th>TotalSales</th>\n",
       "    </tr>\n",
       "  </thead>\n",
       "  <tbody>\n",
       "    <tr>\n",
       "      <th>0</th>\n",
       "      <td>Iron Maiden</td>\n",
       "      <td>138.60</td>\n",
       "    </tr>\n",
       "    <tr>\n",
       "      <th>1</th>\n",
       "      <td>U2</td>\n",
       "      <td>105.93</td>\n",
       "    </tr>\n",
       "    <tr>\n",
       "      <th>2</th>\n",
       "      <td>Metallica</td>\n",
       "      <td>90.09</td>\n",
       "    </tr>\n",
       "    <tr>\n",
       "      <th>3</th>\n",
       "      <td>Led Zeppelin</td>\n",
       "      <td>86.13</td>\n",
       "    </tr>\n",
       "    <tr>\n",
       "      <th>4</th>\n",
       "      <td>Lost</td>\n",
       "      <td>81.59</td>\n",
       "    </tr>\n",
       "  </tbody>\n",
       "</table>\n",
       "</div>"
      ],
      "text/plain": [
       "         Artist  TotalSales\n",
       "0   Iron Maiden      138.60\n",
       "1            U2      105.93\n",
       "2     Metallica       90.09\n",
       "3  Led Zeppelin       86.13\n",
       "4          Lost       81.59"
      ]
     },
     "execution_count": 35,
     "metadata": {},
     "output_type": "execute_result"
    }
   ],
   "source": [
    "df = pd.read_sql_query(context_sql_chain_result, sqlite_con)\n",
    "df.head()"
   ]
  },
  {
   "cell_type": "markdown",
   "metadata": {},
   "source": [
    "## Ask for a vega lite chart spec based on user question using vectorstore context\n"
   ]
  },
  {
   "cell_type": "code",
   "execution_count": 36,
   "metadata": {},
   "outputs": [],
   "source": [
    "vega_spec_template = \"\"\"Based on the context below, question,\n",
    "sql query generate a vega_lite spec, json only no text or comments.\n",
    "{context}\n",
    "\n",
    "Question: {question}\n",
    "SQL Query: {query}\"\"\"\n",
    "\n",
    "vega_spec_prompt = ChatPromptTemplate.from_template(\n",
    "    template=vega_spec_template\n",
    ")"
   ]
  },
  {
   "cell_type": "code",
   "execution_count": 37,
   "metadata": {},
   "outputs": [
    {
     "data": {
      "text/plain": [
       "'{\\n  \"data\": {\\n    \"values\": [\\n      {\"Artist\": \"Iron Maiden\", \"TotalSales\": 138.61},\\n      {\"Artist\": \"U2\", \"TotalSales\": 105.93},\\n      {\"Artist\": \"Metallica\", \"TotalSales\": 90.09},\\n      {\"Artist\": \"Led Zeppelin\", \"TotalSales\": 83.16},\\n      {\"Artist\": \"Deep Purple\", \"TotalSales\": 65.34}\\n    ]\\n  },\\n  \"mark\": \"bar\",\\n  \"encoding\": {\\n    \"x\": {\"field\": \"TotalSales\", \"type\": \"quantitative\"},\\n    \"y\": {\"field\": \"Artist\", \"type\": \"nominal\"}\\n  }\\n}'"
      ]
     },
     "execution_count": 37,
     "metadata": {},
     "output_type": "execute_result"
    }
   ],
   "source": [
    "vega_spec_chain = (\n",
    "    {\n",
    "        \"query\": lambda x: context_sql_chain,\n",
    "        \"context\": retriever,\n",
    "        \"question\": RunnablePassthrough(),\n",
    "    }\n",
    "    | vega_spec_prompt\n",
    "    | llm.bind(stop=[\"\\nVega-Lite Spec:\"])\n",
    "    | StrOutputParser()\n",
    ")\n",
    "vega_spec_chain_result = vega_spec_chain.invoke(context_sql_user_question)\n",
    "vega_spec_chain_result"
   ]
  },
  {
   "cell_type": "markdown",
   "metadata": {},
   "source": [
    "## Ask for a Natural language response based on user question\n"
   ]
  },
  {
   "cell_type": "code",
   "execution_count": 25,
   "metadata": {},
   "outputs": [],
   "source": [
    "template = \"\"\"Based on the table schema below, question, sql query write a natural language response:\n",
    "{schema}\n",
    "\n",
    "Question: {question}\n",
    "SQL Query: {query}\n",
    "SQL Response: {response}\"\"\"\n",
    "\n",
    "prompt_response = ChatPromptTemplate.from_template(template=template)"
   ]
  },
  {
   "cell_type": "code",
   "execution_count": 26,
   "metadata": {},
   "outputs": [],
   "source": [
    "full_chain = (\n",
    "    RunnablePassthrough.assign(query=schema_sql_chain).assign(\n",
    "        schema=get_schema,\n",
    "        response=lambda vars: run_query(vars[\"query\"]),\n",
    "    )\n",
    "    | prompt_response\n",
    "    | llm.bind(stop=[\"\\nNatural Language Response:\"])\n",
    "    | StrOutputParser()\n",
    ")"
   ]
  },
  {
   "cell_type": "code",
   "execution_count": 27,
   "metadata": {},
   "outputs": [
    {
     "data": {
      "text/plain": [
       "'There are 347 albums in the database.'"
      ]
     },
     "execution_count": 27,
     "metadata": {},
     "output_type": "execute_result"
    }
   ],
   "source": [
    "user_question = \"how many albums are there in the database?\"\n",
    "full_chain.invoke({\"question\": user_question})"
   ]
  },
  {
   "cell_type": "markdown",
   "metadata": {},
   "source": [
    "## RAG with chat history and FAISS\n"
   ]
  },
  {
   "cell_type": "code",
   "execution_count": 28,
   "metadata": {},
   "outputs": [],
   "source": [
    "raw_text = db.get_table_info()\n",
    "text_chunks = get_text_chunks(raw_text)\n",
    "vector_store = get_vectorstore(text_chunks)\n",
    "conversation = get_conversation_chain(vectorstore=vector_store)"
   ]
  },
  {
   "cell_type": "code",
   "execution_count": 29,
   "metadata": {},
   "outputs": [
    {
     "name": "stderr",
     "output_type": "stream",
     "text": [
      "/home/gabriel/Documents/repos/llm-data-talk/venv/lib/python3.9/site-packages/langchain_core/_api/deprecation.py:117: LangChainDeprecationWarning: The function `__call__` was deprecated in LangChain 0.1.0 and will be removed in 0.2.0. Use invoke instead.\n",
      "  warn_deprecated(\n"
     ]
    },
    {
     "data": {
      "text/plain": [
       "{'question': 'write a query that answer the question: how many albums are there in the database?',\n",
       " 'chat_history': [HumanMessage(content='write a query that answer the question: how many albums are there in the database?'),\n",
       "  AIMessage(content='To find out how many albums are there in the database, you can use the following SQL query:\\n\\n```sql\\nSELECT COUNT(*) AS TotalAlbums\\nFROM Album;\\n```\\n\\nThis query will return the total number of albums present in the database.')],\n",
       " 'answer': 'To find out how many albums are there in the database, you can use the following SQL query:\\n\\n```sql\\nSELECT COUNT(*) AS TotalAlbums\\nFROM Album;\\n```\\n\\nThis query will return the total number of albums present in the database.'}"
      ]
     },
     "execution_count": 29,
     "metadata": {},
     "output_type": "execute_result"
    }
   ],
   "source": [
    "user_question = \"write a query that answer the question: how many albums are there in the database?\"\n",
    "response = handle_user_question(user_question, conversation)\n",
    "response"
   ]
  },
  {
   "cell_type": "code",
   "execution_count": 30,
   "metadata": {},
   "outputs": [
    {
     "name": "stdout",
     "output_type": "stream",
     "text": [
      "User: write a query that answer the question: how many albums are there in the database?\n",
      "Bot: To find out how many albums are there in the database, you can use the following SQL query:\n",
      "\n",
      "```sql\n",
      "SELECT COUNT(*) AS TotalAlbums\n",
      "FROM Album;\n",
      "```\n",
      "\n",
      "This query will return the total number of albums present in the database.\n"
     ]
    }
   ],
   "source": [
    "chat_history = response[\"chat_history\"]\n",
    "for index, message in enumerate(chat_history):\n",
    "    if index % 2 == 0:\n",
    "        print(f\"User: {message.content}\")\n",
    "    else:\n",
    "        print(f\"Bot: {message.content}\")"
   ]
  },
  {
   "cell_type": "code",
   "execution_count": 31,
   "metadata": {},
   "outputs": [
    {
     "data": {
      "text/html": [
       "<div>\n",
       "<style scoped>\n",
       "    .dataframe tbody tr th:only-of-type {\n",
       "        vertical-align: middle;\n",
       "    }\n",
       "\n",
       "    .dataframe tbody tr th {\n",
       "        vertical-align: top;\n",
       "    }\n",
       "\n",
       "    .dataframe thead th {\n",
       "        text-align: right;\n",
       "    }\n",
       "</style>\n",
       "<table border=\"1\" class=\"dataframe\">\n",
       "  <thead>\n",
       "    <tr style=\"text-align: right;\">\n",
       "      <th></th>\n",
       "      <th>TotalAlbums</th>\n",
       "    </tr>\n",
       "  </thead>\n",
       "  <tbody>\n",
       "    <tr>\n",
       "      <th>0</th>\n",
       "      <td>347</td>\n",
       "    </tr>\n",
       "  </tbody>\n",
       "</table>\n",
       "</div>"
      ],
      "text/plain": [
       "   TotalAlbums\n",
       "0          347"
      ]
     },
     "execution_count": 31,
     "metadata": {},
     "output_type": "execute_result"
    }
   ],
   "source": [
    "df = pd.read_sql_query(\n",
    "    \"SELECT COUNT(*) AS TotalAlbums FROM Album;\", sqlite_con\n",
    ")\n",
    "df.head()"
   ]
  },
  {
   "cell_type": "code",
   "execution_count": 32,
   "metadata": {},
   "outputs": [
    {
     "data": {
      "text/html": [
       "<div>\n",
       "<style scoped>\n",
       "    .dataframe tbody tr th:only-of-type {\n",
       "        vertical-align: middle;\n",
       "    }\n",
       "\n",
       "    .dataframe tbody tr th {\n",
       "        vertical-align: top;\n",
       "    }\n",
       "\n",
       "    .dataframe thead th {\n",
       "        text-align: right;\n",
       "    }\n",
       "</style>\n",
       "<table border=\"1\" class=\"dataframe\">\n",
       "  <thead>\n",
       "    <tr style=\"text-align: right;\">\n",
       "      <th></th>\n",
       "      <th>TotalAlbums</th>\n",
       "    </tr>\n",
       "  </thead>\n",
       "  <tbody>\n",
       "    <tr>\n",
       "      <th>0</th>\n",
       "      <td>347</td>\n",
       "    </tr>\n",
       "  </tbody>\n",
       "</table>\n",
       "</div>"
      ],
      "text/plain": [
       "   TotalAlbums\n",
       "0          347"
      ]
     },
     "execution_count": 32,
     "metadata": {},
     "output_type": "execute_result"
    }
   ],
   "source": [
    "duckdb_con.query(\"SELECT COUNT(*) AS TotalAlbums FROM Album;\").df()"
   ]
  }
 ],
 "metadata": {
  "kernelspec": {
   "display_name": "venv",
   "language": "python",
   "name": "python3"
  },
  "language_info": {
   "codemirror_mode": {
    "name": "ipython",
    "version": 3
   },
   "file_extension": ".py",
   "mimetype": "text/x-python",
   "name": "python",
   "nbconvert_exporter": "python",
   "pygments_lexer": "ipython3",
   "version": "3.9.6"
  }
 },
 "nbformat": 4,
 "nbformat_minor": 2
}
